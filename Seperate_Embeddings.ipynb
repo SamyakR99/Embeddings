{
 "cells": [
  {
   "cell_type": "code",
   "execution_count": 1,
   "metadata": {},
   "outputs": [
    {
     "name": "stdout",
     "output_type": "stream",
     "text": [
      "loading annotations into memory...\n",
      "Done (t=0.37s)\n",
      "creating index...\n",
      "index created!\n"
     ]
    }
   ],
   "source": [
    "from os.path import join\n",
    "from PIL import Image\n",
    "import numpy as np\n",
    "import torch\n",
    "import torch.nn as nn\n",
    "from torch.utils.data import Dataset\n",
    "from torchvision.transforms import transforms\n",
    "import torch.nn.functional as F\n",
    "import clip\n",
    "from torch.utils.data import DataLoader\n",
    "from torchvision import transforms\n",
    "import numpy as np\n",
    "from tqdm import tqdm\n",
    "from PIL import Image\n",
    "import matplotlib.pyplot as plt\n",
    "import cv2\n",
    "from torchvision.transforms import Compose, Resize, ToTensor, Normalize\n",
    "from torchvision.transforms import InterpolationMode\n",
    "BICUBIC = InterpolationMode.BICUBIC\n",
    "from IPython.display import display, clear_output\n",
    "from pycocotools.coco import COCO\n",
    "\n",
    "\n",
    "from torchmetrics.classification import MulticlassJaccardIndex\n",
    "import time\n",
    "\n",
    "# Load the COCO 2017 test set\n",
    "coco = COCO('/home/samyakr2/multilabel/data/coco/annotations/instances_val2017.json')\n",
    "image_dir = '/home/samyakr2/multilabel/data/coco/val2017/'\n",
    "\n",
    "device = \"cuda\" if torch.cuda.is_available() else \"cpu\"\n",
    "\n",
    "\n",
    "voc_classes_background = [ \"background\",\n",
    "    \"aeroplane\", \"bicycle\", \"bird\", \"boat\", \"bottle\", \n",
    "    \"bus\", \"car\", \"cat\", \"chair\", \"cow\", \n",
    "    \"dining table\", \"dog\", \"horse\", \"motorbike\", \"person\", \n",
    "    \"potted plant\", \"sheep\", \"sofa\", \"train\", \"tv/monitor\"\n",
    "]\n",
    "\n",
    "\n",
    "coco_classnames = ['background',\"person\", \"bicycle\", \"car\", \"motorcycle\", \"airplane\", \"bus\", \"train\", \"truck\", \"boat\",\n",
    "                           \"traffic light\", \"fire hydrant\", \"stop sign\", \"parking meter\", \"bench\", \"bird\", \"cat\",\n",
    "                           \"dog\", \"horse\", \"sheep\", \"cow\", \"elephant\", \"bear\", \"zebra\", \"giraffe\", \"backpack\",\n",
    "                           \"umbrella\", \"handbag\", \"tie\", \"suitcase\", \"frisbee\", \"skis\", \"snowboard\", \"sports ball\",\n",
    "                           \"kite\",\n",
    "                           \"baseball bat\", \"baseball glove\", \"skateboard\", \"surfboard\", \"tennis racket\", \"bottle\",\n",
    "                           \"wine glass\", \"cup\", \"fork\", \"knife\", \"spoon\", \"bowl\", \"banana\", \"apple\", \"sandwich\",\n",
    "                           \"orange\",\n",
    "                           \"broccoli\", \"carrot\", \"hot dog\", \"pizza\", \"donut\", \"cake\", \"chair\", \"couch\", \"potted plant\",\n",
    "                           \"bed\", \"dining table\", \"toilet\", \"tv\", \"laptop\", \"mouse\", \"remote\", \"keyboard\", \"cell phone\",\n",
    "                           \"microwave\", \"oven\", \"toaster\", \"sink\", \"refrigerator\", \"book\", \"clock\", \"vase\", \"scissors\",\n",
    "                           \"teddy bear\", \"hair drier\", \"toothbrush\"]\n",
    "\n",
    "\n",
    "\n",
    "model, _ = clip.load(\"RN101\", device=device)\n",
    "preprocess_img =  Compose([Resize((448, 448), interpolation=BICUBIC), ToTensor(),\n",
    "    Normalize((0.48145466, 0.4578275, 0.40821073), (0.26862954, 0.26130258, 0.27577711))])\n",
    "\n",
    "preprocess_target =  Compose([ToTensor()])\n",
    "\n",
    "all_texts = voc_classes_background[1:]\n",
    "# all_texts = coco_classnames[1:]\n",
    "\n",
    "with torch.no_grad():\n",
    "    text_feats = clip.encode_text_with_prompt_ensemble(model, all_texts, device, prompt_templates = ['a photo of a {}.'])\n",
    "\n",
    "text_feats = F.normalize(text_feats, dim=-1) \n",
    "\n",
    "\n",
    "matrix = torch.matmul(text_feats, text_feats.T) \n"
   ]
  },
  {
   "cell_type": "code",
   "execution_count": 2,
   "metadata": {},
   "outputs": [
    {
     "data": {
      "image/png": "[encoded data removed]",
      "text/plain": [
       "<Figure size 800x800 with 2 Axes>"
      ]
     },
     "metadata": {},
     "output_type": "display_data"
    }
   ],
   "source": [
    "import matplotlib.pyplot as plt\n",
    "import numpy as np\n",
    "\n",
    "# Create a random 20x20 matrix\n",
    "# matrix = np.random.rand(20, 20)  # Values between 0 and 1\n",
    "if matrix.min() < 0:\n",
    "    normalized_matrix  = (matrix - matrix.min()) / (matrix.max() - matrix.min())\n",
    "else: normalized_matrix = matrix\n",
    "matrix_plot = normalized_matrix.detach().cpu()\n",
    "# Plot the matrix as a color-coded image\n",
    "fixed_vmin = 0.0  # Minimum value for the color scale\n",
    "fixed_vmax = 1.0 \n",
    "plt.figure(figsize=(8, 8))\n",
    "plt.imshow(matrix_plot, cmap='Greys', interpolation='nearest', vmin=fixed_vmin, vmax=fixed_vmax)\n",
    "plt.colorbar(label='')\n",
    "# plt.title(\"Color-coded Representation of a 20x20 Matrix\")\n",
    "plt.xlabel(\"Class Index\")\n",
    "plt.ylabel(\"Class Index\")\n",
    "plt.xticks(ticks=np.arange(0, matrix.shape[1], 5), labels=np.arange(0, matrix.shape[1], 5).astype(int))\n",
    "plt.yticks(ticks=np.arange(0, matrix.shape[0], 5), labels=np.arange(0, matrix.shape[0], 5).astype(int))\n",
    "\n",
    "plt.show()\n",
    "\n"
   ]
  },
  {
   "cell_type": "code",
   "execution_count": 3,
   "metadata": {},
   "outputs": [
    {
     "name": "stdout",
     "output_type": "stream",
     "text": [
      "tensor(0.6035)\n"
     ]
    },
    {
     "data": {
      "text/plain": [
       "tensor(1.0000)"
      ]
     },
     "execution_count": 3,
     "metadata": {},
     "output_type": "execute_result"
    }
   ],
   "source": [
    "print(matrix_plot.min())\n",
    "matrix_plot.max()\n"
   ]
  },
  {
   "cell_type": "markdown",
   "metadata": {},
   "source": [
    "## Text Projector"
   ]
  },
  {
   "cell_type": "code",
   "execution_count": 4,
   "metadata": {},
   "outputs": [
    {
     "data": {
      "text/plain": [
       "<All keys matched successfully>"
      ]
     },
     "execution_count": 4,
     "metadata": {},
     "output_type": "execute_result"
    }
   ],
   "source": [
    "import torch.nn as nn\n",
    "import torch.nn.functional as F\n",
    "\n",
    "\n",
    "model, _ = clip.load(\"RN101\", device=device)\n",
    "model.eval()\n",
    "\n",
    "\n",
    "sizes = [512, 384, 256]\n",
    "\n",
    "# sizes = [1024, 768, 512] ## RN50\n",
    "\n",
    "layers_text = []\n",
    "for i in range(len(sizes) - 2):\n",
    "    layers_text.append(nn.Linear(sizes[i], sizes[i + 1], bias=False))\n",
    "    layers_text.append(nn.BatchNorm1d(sizes[i + 1]))\n",
    "    layers_text.append(nn.ReLU(inplace=True))\n",
    "layers_text.append(nn.Linear(sizes[-2], sizes[-1], bias=False))\n",
    "text_projector = nn.Sequential(*layers_text).to(device)\n",
    "\n",
    "\n",
    "# model_path = '/home/samyakr2/Redundancy/DualCoOp/output/voc2007-DualCoop-RN101SSL_posneg_p1.0-0.05R/model_best.pth.tar'\n",
    "model_path = '/home/samyakr2/Redundancy/DualCoOp/output/coco_RN101_SSL_90_0.002R/model_best.pth.tar'\n",
    "# model_path = '/home/samyakr2/CLIP_Surgery/weights_coco/RN101_0.005.pth.tar'\n",
    "# model_path = '/home/samyakr2/CLIP_Surgery/weights_coco/RN50_coco_0.012_goat.pth.tar'\n",
    "\n",
    "state_dict = torch.load(model_path)\n",
    "\n",
    "projector_weights_text = {}\n",
    "projector_weights_img = {}\n",
    "\n",
    "for kays in state_dict['state_dict'].keys():\n",
    "    if 'text_projector' in kays:\n",
    "        projector_weights_text[kays[15:]] = state_dict['state_dict'][kays]\n",
    "\n",
    "\n",
    "text_projector.load_state_dict(projector_weights_text)"
   ]
  },
  {
   "cell_type": "code",
   "execution_count": 5,
   "metadata": {},
   "outputs": [
    {
     "data": {
      "image/png": "[encoded data removed]",
      "text/plain": [
       "<Figure size 800x800 with 2 Axes>"
      ]
     },
     "metadata": {},
     "output_type": "display_data"
    }
   ],
   "source": [
    "import matplotlib.pyplot as plt\n",
    "import numpy as np\n",
    "\n",
    "with torch.no_grad():\n",
    "    text_feats = clip.encode_text_with_prompt_ensemble(model, all_texts, device, prompt_templates = ['a photo of a {}.'])\n",
    "    text_feats = F.normalize(text_feats, dim=-1) \n",
    "    \n",
    "\n",
    "\n",
    "projected_text = text_projector(text_feats)\n",
    "projected_text = F.normalize(projected_text, dim=-1) \n",
    "\n",
    "matrix = torch.matmul(projected_text, projected_text.T) \n",
    "\n",
    "if matrix.min() < 0:\n",
    "    normalized_matrix  = (matrix - matrix.min()) / (matrix.max() - matrix.min())\n",
    "else: normalized_matrix = matrix\n",
    "matrix_plot = normalized_matrix.detach().cpu()\n",
    "\n",
    "fixed_vmin = 0.0  # Minimum value for the color scale\n",
    "fixed_vmax = 1.0 \n",
    "plt.figure(figsize=(8, 8))\n",
    "plt.imshow(matrix_plot, cmap='Greys', interpolation='nearest', vmin=fixed_vmin, vmax=fixed_vmax)\n",
    "plt.colorbar(label='')\n",
    "# plt.title(\"Color-coded Representation of a 20x20 Matrix\")\n",
    "plt.xlabel(\"Class Index\")\n",
    "plt.ylabel(\"Class Index\")\n",
    "\n",
    "plt.xticks(ticks=np.arange(0, matrix.shape[1], 5), labels=np.arange(0, matrix.shape[1], 5).astype(int))\n",
    "plt.yticks(ticks=np.arange(0, matrix.shape[0], 5), labels=np.arange(0, matrix.shape[0], 5).astype(int))\n",
    "\n",
    "plt.show()\n",
    "\n"
   ]
  },
  {
   "cell_type": "code",
   "execution_count": 6,
   "metadata": {},
   "outputs": [
    {
     "name": "stdout",
     "output_type": "stream",
     "text": [
      "tensor(0.)\n"
     ]
    },
    {
     "data": {
      "text/plain": [
       "tensor(1.)"
      ]
     },
     "execution_count": 6,
     "metadata": {},
     "output_type": "execute_result"
    }
   ],
   "source": [
    "print(matrix_plot.min())\n",
    "matrix_plot.max()"
   ]
  },
  {
   "cell_type": "code",
   "execution_count": 7,
   "metadata": {},
   "outputs": [
    {
     "data": {
      "text/plain": [
       "tensor(-0.5854, device='cuda:0')"
      ]
     },
     "execution_count": 7,
     "metadata": {},
     "output_type": "execute_result"
    }
   ],
   "source": [
    "text_feats.min()"
   ]
  },
  {
   "cell_type": "code",
   "execution_count": null,
   "metadata": {},
   "outputs": [],
   "source": []
  }
 ],
 "metadata": {
  "kernelspec": {
   "display_name": "base",
   "language": "python",
   "name": "python3"
  },
  "language_info": {
   "codemirror_mode": {
    "name": "ipython",
    "version": 3
   },
   "file_extension": ".py",
   "mimetype": "text/x-python",
   "name": "python",
   "nbconvert_exporter": "python",
   "pygments_lexer": "ipython3",
   "version": "3.11.5"
  }
 },
 "nbformat": 4,
 "nbformat_minor": 2
}
